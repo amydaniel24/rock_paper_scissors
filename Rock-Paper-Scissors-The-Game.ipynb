{
 "cells": [
  {
   "cell_type": "markdown",
   "id": "074c7396",
   "metadata": {},
   "source": [
    "Assigment:\n",
    "Rock, paper scissors game.\n",
    "\n",
    "Requirements: \n",
    "-Need a random library\n",
    "-Need to take user input and make sure that it converts to      lower-case.\n",
    "-Need if, else, elif to compare computer random choice with user input.\n",
    "-Need to print both choices and the winner (or tie).\n",
    "\n",
    "Rules of the Game:\n",
    "-Rock beats Scissors\n",
    "-Scissors beats Paper\n",
    "-Paper beats Rock\n"
   ]
  },
  {
   "cell_type": "markdown",
   "id": "39ff02fe",
   "metadata": {},
   "source": [
    "Importing library for the user input options."
   ]
  },
  {
   "cell_type": "code",
   "execution_count": 1,
   "id": "e7bbee8d",
   "metadata": {},
   "outputs": [],
   "source": [
    "import random\n",
    "\n",
    "OPTIONS = [\"rock\", \"paper\", \"scissors\"]\n"
   ]
  },
  {
   "cell_type": "markdown",
   "id": "aa4e46a3",
   "metadata": {},
   "source": []
  }
 ],
 "metadata": {
  "kernelspec": {
   "display_name": "Python 3",
   "language": "python",
   "name": "python3"
  },
  "language_info": {
   "codemirror_mode": {
    "name": "ipython",
    "version": 3
   },
   "file_extension": ".py",
   "mimetype": "text/x-python",
   "name": "python",
   "nbconvert_exporter": "python",
   "pygments_lexer": "ipython3",
   "version": "3.13.1"
  }
 },
 "nbformat": 4,
 "nbformat_minor": 5
}
