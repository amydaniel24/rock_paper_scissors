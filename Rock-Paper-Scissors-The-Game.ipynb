{
 "cells": [
  {
   "cell_type": "markdown",
   "id": "074c7396",
   "metadata": {},
   "source": [
    "Assigment:\n",
    "Rock, paper scissors game.\n",
    "\n",
    "Requirements: \n",
    "-Need a random library\n",
    "-Need to take user input and make sure that it converts to      lower-case.\n",
    "-Need if, else, elif to compare computer random choice with user input.\n",
    "-Need to print both choices and the winner (or tie).\n",
    "\n",
    "Rules of the Game:\n",
    "-Rock beats Scissors\n",
    "-Scissors beats Paper\n",
    "-Paper beats Rock\n"
   ]
  },
  {
   "cell_type": "markdown",
   "id": "39ff02fe",
   "metadata": {},
   "source": [
    "Importing library for the user input options."
   ]
  },
  {
   "cell_type": "markdown",
   "id": "aa4e46a3",
   "metadata": {},
   "source": [
    "Get user input and make sure it will convert to lower case letters.\n"
   ]
  },
  {
   "cell_type": "markdown",
   "id": "fd0f8c96",
   "metadata": {},
   "source": [
    "Setting up the conditions with If, Else, Elif"
   ]
  },
  {
   "cell_type": "code",
   "execution_count": 2,
   "id": "5cba4169",
   "metadata": {},
   "outputs": [
    {
     "name": "stdout",
     "output_type": "stream",
     "text": [
      "Invalid input. Please enter 'rock', 'paper', or 'scissors'.\n"
     ]
    }
   ],
   "source": [
    "import random\n",
    "\n",
    "OPTIONS = [\"rock\", \"paper\", \"scissors\"]\n",
    "\n",
    "user_choice = input(\"Enter rock, paper, or scissors: \").strip().lower()\n",
    "computer_choice = random.choice(OPTIONS)\n",
    "\n",
    "if user_choice not in OPTIONS:\n",
    "    print(\"Invalid input. Please enter 'rock', 'paper', or 'scissors'.\")\n",
    "else:\n",
    "    computer_choice = random.choice(OPTIONS)\n",
    "    if user_choice == computer_choice:\n",
    "        result = \"It's a tie!\"\n",
    "    elif (\n",
    "        (user_choice == \"rock\" and computer_choice == \"scissors\")\n",
    "        or (user_choice == \"scissors\" and computer_choice == \"paper\")\n",
    "        or (user_choice == \"paper\" and computer_choice == \"rock\")):\n",
    "         result = \"You win!\"\n",
    "    else:\n",
    "        result = \"Computer wins!\"\n",
    "    print(f\"You chose: {user_choice}\")\n",
    "    print(f\"Computer chose: {computer_choice}\")\n",
    "    print(result)"
   ]
  },
  {
   "cell_type": "code",
   "execution_count": null,
   "id": "58f0cde6",
   "metadata": {},
   "outputs": [],
   "source": []
  }
 ],
 "metadata": {
  "kernelspec": {
   "display_name": "Python 3",
   "language": "python",
   "name": "python3"
  },
  "language_info": {
   "codemirror_mode": {
    "name": "ipython",
    "version": 3
   },
   "file_extension": ".py",
   "mimetype": "text/x-python",
   "name": "python",
   "nbconvert_exporter": "python",
   "pygments_lexer": "ipython3",
   "version": "3.13.1"
  }
 },
 "nbformat": 4,
 "nbformat_minor": 5
}
